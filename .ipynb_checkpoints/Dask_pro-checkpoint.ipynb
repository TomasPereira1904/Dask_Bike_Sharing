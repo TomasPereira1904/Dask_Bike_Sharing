{
 "cells": [
  {
   "cell_type": "code",
   "execution_count": null,
   "metadata": {},
   "outputs": [],
   "source": [
    "#Libraries to be used\n",
    "import dask\n",
    "import dask.array as da\n",
    "import dask.dataframe as dd\n",
    "import numpy as np\n",
    "import dask_ml.datasets\n",
    "import dask_ml.cluster\n",
    "import matplotlib.pyplot as pl\n",
    "from dask_ml.linear_model import LinearRegression\n",
    "from dask_ml.datasets import make_regression\n",
    "\n"
   ]
  },
  {
   "cell_type": "code",
   "execution_count": null,
   "metadata": {},
   "outputs": [],
   "source": [
    "#Instalation of Dask Libraries\n",
    "#!pip -q install \"dask[complete]\"\n",
    "#!pip install --upgrade pip\n",
    "#!pip -q install \"dask-ml[complete]\""
   ]
  },
  {
   "cell_type": "code",
   "execution_count": null,
   "metadata": {},
   "outputs": [],
   "source": [
    "# load the datasets\n",
    "dfday = dd.read_csv(\n",
    "    \"/Users/Tomas/Desktop/Bike-Sharing-Dataset 2/day.csv\"\n",
    ")\n",
    "dfhr = dd.read_csv(\n",
    "    \"/Users/Tomas/Desktop/Bike-Sharing-Dataset 2/hour.csv\"\n",
    ")"
   ]
  },
  {
   "cell_type": "code",
   "execution_count": null,
   "metadata": {},
   "outputs": [],
   "source": [
    "dfday.head()"
   ]
  },
  {
   "cell_type": "code",
   "execution_count": null,
   "metadata": {},
   "outputs": [],
   "source": [
    "# convert the column dteday to datetime and drop column instant\n",
    "dfday[\"dteday\"] = dd.to_datetime(dfday.dteday)\n",
    "\n",
    "dfday = dfday.drop([\"instant\"], axis=1)\n"
   ]
  },
  {
   "cell_type": "code",
   "execution_count": null,
   "metadata": {},
   "outputs": [],
   "source": [
    "# convert the data type to either category or float64\n",
    "cat_orig_hr = [\n",
    "    \"season\",\n",
    "    \"mnth\",\n",
    "    \"yr\",\n",
    "    \"holiday\",\n",
    "    \"hr\",\n",
    "    \"workingday\",\n",
    "    \"weekday\",\n",
    "    \"weathersit\",\n",
    "]\n",
    "\n",
    "cat_orig_day = [\n",
    "    \"season\",\n",
    "    \"mnth\",\n",
    "    \"yr\",\n",
    "    \"holiday\",\n",
    "    \"workingday\",\n",
    "    \"weekday\",\n",
    "    \"weathersit\",\n",
    "]\n",
    "float_orig = [\"temp\", \"atemp\", \"hum\", \"windspeed\"]\n",
    "\n",
    "for col in cat_orig_day:\n",
    "    dfday[col] = dfday[col].astype(\"category\")\n",
    "for col in float_orig:\n",
    "    dfday[col] = dfday[col].astype(\"float64\")\n",
    "    \n",
    "\n",
    "print(dfday.dtypes)"
   ]
  },
  {
   "cell_type": "code",
   "execution_count": null,
   "metadata": {},
   "outputs": [],
   "source": [
    "#Check for Null Values\n",
    "dfday.isnull().any().compute()"
   ]
  },
  {
   "cell_type": "code",
   "execution_count": null,
   "metadata": {},
   "outputs": [],
   "source": [
    "#Descriptive statistics\n",
    "dfday.describe().compute().round(2)"
   ]
  },
  {
   "cell_type": "code",
   "execution_count": null,
   "metadata": {},
   "outputs": [],
   "source": [
    "#Cliping outliers in numeric variables\n",
    "dfday['hum'] = dfhr['hum'].clip(lower = 0.08)\n",
    "dfday['windspeed'] = dfhr['windspeed'].clip(upper = 0.65)"
   ]
  },
  {
   "cell_type": "code",
   "execution_count": null,
   "metadata": {},
   "outputs": [],
   "source": [
    "#Separate datasets in train and test\n",
    "train = dfday.loc[0:638]\n",
    "test = dfday.loc[639:730]"
   ]
  },
  {
   "cell_type": "code",
   "execution_count": null,
   "metadata": {},
   "outputs": [],
   "source": [
    "#Seting variables for modelling\n",
    "train_y = train[['cnt']]\n",
    "train_X = train.loc[:, train.columns].drop(['dteday','casual','registered','atemp','cnt'], axis = 1)\n",
    "test_y = test[['cnt']]\n",
    "test_X = test.loc[:, test.columns].drop(['dteday','casual','registered','atemp','cnt'], axis = 1)"
   ]
  },
  {
   "cell_type": "code",
   "execution_count": null,
   "metadata": {},
   "outputs": [],
   "source": [
    "#Creating a Linear Regression with Dask_ML\n",
    "\n",
    "lr = LinearRegression(fit_intercept=False)\n",
    "lr.fit(train_X, train_y)"
   ]
  },
  {
   "cell_type": "code",
   "execution_count": null,
   "metadata": {},
   "outputs": [],
   "source": [
    "#Building the predictions and computing the r2_Score\n",
    "test_y_pred = lr.predict(test_X.values)\n",
    "r2_score(test_y.values.compute(), test_y_pred.compute())"
   ]
  }
 ],
 "metadata": {
  "kernelspec": {
   "display_name": "Python 3",
   "language": "python",
   "name": "python3"
  },
  "language_info": {
   "codemirror_mode": {
    "name": "ipython",
    "version": 3
   },
   "file_extension": ".py",
   "mimetype": "text/x-python",
   "name": "python",
   "nbconvert_exporter": "python",
   "pygments_lexer": "ipython3",
   "version": "3.6.8"
  }
 },
 "nbformat": 4,
 "nbformat_minor": 2
}
